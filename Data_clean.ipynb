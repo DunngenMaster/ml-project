{
  "cells": [
    {
      "cell_type": "markdown",
      "metadata": {
        "id": "view-in-github",
        "colab_type": "text"
      },
      "source": [
        "<a href=\"https://colab.research.google.com/github/DunngenMaster/ml-project/blob/data-cleaning/Data_clean.ipynb\" target=\"_parent\"><img src=\"https://colab.research.google.com/assets/colab-badge.svg\" alt=\"Open In Colab\"/></a>"
      ]
    },
    {
      "cell_type": "code",
      "execution_count": null,
      "metadata": {
        "id": "3t9cDQE_57eS"
      },
      "outputs": [],
      "source": [
        "import pandas as pd\n",
        "import matplotlib.pyplot as plt\n",
        "import seaborn as sns"
      ]
    },
    {
      "cell_type": "markdown",
      "metadata": {
        "id": "EEiBbdRR57eV"
      },
      "source": [
        "This is a dataset from kaggle(UBER VS LYFT), Lets get some insights from the data and do necessary Cleaning and EDA."
      ]
    },
    {
      "cell_type": "code",
      "execution_count": null,
      "metadata": {
        "id": "VSU8IvJY57eZ",
        "outputId": "d70bb0da-7e6d-455d-ac9d-7ef60e630055"
      },
      "outputs": [
        {
          "data": {
            "text/html": [
              "<div>\n",
              "<style scoped>\n",
              "    .dataframe tbody tr th:only-of-type {\n",
              "        vertical-align: middle;\n",
              "    }\n",
              "\n",
              "    .dataframe tbody tr th {\n",
              "        vertical-align: top;\n",
              "    }\n",
              "\n",
              "    .dataframe thead th {\n",
              "        text-align: right;\n",
              "    }\n",
              "</style>\n",
              "<table border=\"1\" class=\"dataframe\">\n",
              "  <thead>\n",
              "    <tr style=\"text-align: right;\">\n",
              "      <th></th>\n",
              "      <th>id</th>\n",
              "      <th>timestamp</th>\n",
              "      <th>hour</th>\n",
              "      <th>day</th>\n",
              "      <th>month</th>\n",
              "      <th>datetime</th>\n",
              "      <th>timezone</th>\n",
              "      <th>source</th>\n",
              "      <th>destination</th>\n",
              "      <th>cab_type</th>\n",
              "      <th>...</th>\n",
              "      <th>precipIntensityMax</th>\n",
              "      <th>uvIndexTime</th>\n",
              "      <th>temperatureMin</th>\n",
              "      <th>temperatureMinTime</th>\n",
              "      <th>temperatureMax</th>\n",
              "      <th>temperatureMaxTime</th>\n",
              "      <th>apparentTemperatureMin</th>\n",
              "      <th>apparentTemperatureMinTime</th>\n",
              "      <th>apparentTemperatureMax</th>\n",
              "      <th>apparentTemperatureMaxTime</th>\n",
              "    </tr>\n",
              "  </thead>\n",
              "  <tbody>\n",
              "    <tr>\n",
              "      <th>0</th>\n",
              "      <td>424553bb-7174-41ea-aeb4-fe06d4f4b9d7</td>\n",
              "      <td>1.544953e+09</td>\n",
              "      <td>9</td>\n",
              "      <td>16</td>\n",
              "      <td>12</td>\n",
              "      <td>2018-12-16 09:30:07</td>\n",
              "      <td>America/New_York</td>\n",
              "      <td>Haymarket Square</td>\n",
              "      <td>North Station</td>\n",
              "      <td>Lyft</td>\n",
              "      <td>...</td>\n",
              "      <td>0.1276</td>\n",
              "      <td>1544979600</td>\n",
              "      <td>39.89</td>\n",
              "      <td>1545012000</td>\n",
              "      <td>43.68</td>\n",
              "      <td>1544968800</td>\n",
              "      <td>33.73</td>\n",
              "      <td>1545012000</td>\n",
              "      <td>38.07</td>\n",
              "      <td>1544958000</td>\n",
              "    </tr>\n",
              "    <tr>\n",
              "      <th>1</th>\n",
              "      <td>4bd23055-6827-41c6-b23b-3c491f24e74d</td>\n",
              "      <td>1.543284e+09</td>\n",
              "      <td>2</td>\n",
              "      <td>27</td>\n",
              "      <td>11</td>\n",
              "      <td>2018-11-27 02:00:23</td>\n",
              "      <td>America/New_York</td>\n",
              "      <td>Haymarket Square</td>\n",
              "      <td>North Station</td>\n",
              "      <td>Lyft</td>\n",
              "      <td>...</td>\n",
              "      <td>0.1300</td>\n",
              "      <td>1543251600</td>\n",
              "      <td>40.49</td>\n",
              "      <td>1543233600</td>\n",
              "      <td>47.30</td>\n",
              "      <td>1543251600</td>\n",
              "      <td>36.20</td>\n",
              "      <td>1543291200</td>\n",
              "      <td>43.92</td>\n",
              "      <td>1543251600</td>\n",
              "    </tr>\n",
              "    <tr>\n",
              "      <th>2</th>\n",
              "      <td>981a3613-77af-4620-a42a-0c0866077d1e</td>\n",
              "      <td>1.543367e+09</td>\n",
              "      <td>1</td>\n",
              "      <td>28</td>\n",
              "      <td>11</td>\n",
              "      <td>2018-11-28 01:00:22</td>\n",
              "      <td>America/New_York</td>\n",
              "      <td>Haymarket Square</td>\n",
              "      <td>North Station</td>\n",
              "      <td>Lyft</td>\n",
              "      <td>...</td>\n",
              "      <td>0.1064</td>\n",
              "      <td>1543338000</td>\n",
              "      <td>35.36</td>\n",
              "      <td>1543377600</td>\n",
              "      <td>47.55</td>\n",
              "      <td>1543320000</td>\n",
              "      <td>31.04</td>\n",
              "      <td>1543377600</td>\n",
              "      <td>44.12</td>\n",
              "      <td>1543320000</td>\n",
              "    </tr>\n",
              "    <tr>\n",
              "      <th>3</th>\n",
              "      <td>c2d88af2-d278-4bfd-a8d0-29ca77cc5512</td>\n",
              "      <td>1.543554e+09</td>\n",
              "      <td>4</td>\n",
              "      <td>30</td>\n",
              "      <td>11</td>\n",
              "      <td>2018-11-30 04:53:02</td>\n",
              "      <td>America/New_York</td>\n",
              "      <td>Haymarket Square</td>\n",
              "      <td>North Station</td>\n",
              "      <td>Lyft</td>\n",
              "      <td>...</td>\n",
              "      <td>0.0000</td>\n",
              "      <td>1543507200</td>\n",
              "      <td>34.67</td>\n",
              "      <td>1543550400</td>\n",
              "      <td>45.03</td>\n",
              "      <td>1543510800</td>\n",
              "      <td>30.30</td>\n",
              "      <td>1543550400</td>\n",
              "      <td>38.53</td>\n",
              "      <td>1543510800</td>\n",
              "    </tr>\n",
              "    <tr>\n",
              "      <th>4</th>\n",
              "      <td>e0126e1f-8ca9-4f2e-82b3-50505a09db9a</td>\n",
              "      <td>1.543463e+09</td>\n",
              "      <td>3</td>\n",
              "      <td>29</td>\n",
              "      <td>11</td>\n",
              "      <td>2018-11-29 03:49:20</td>\n",
              "      <td>America/New_York</td>\n",
              "      <td>Haymarket Square</td>\n",
              "      <td>North Station</td>\n",
              "      <td>Lyft</td>\n",
              "      <td>...</td>\n",
              "      <td>0.0001</td>\n",
              "      <td>1543420800</td>\n",
              "      <td>33.10</td>\n",
              "      <td>1543402800</td>\n",
              "      <td>42.18</td>\n",
              "      <td>1543420800</td>\n",
              "      <td>29.11</td>\n",
              "      <td>1543392000</td>\n",
              "      <td>35.75</td>\n",
              "      <td>1543420800</td>\n",
              "    </tr>\n",
              "  </tbody>\n",
              "</table>\n",
              "<p>5 rows × 57 columns</p>\n",
              "</div>"
            ],
            "text/plain": [
              "                                     id     timestamp  hour  day  month  \\\n",
              "0  424553bb-7174-41ea-aeb4-fe06d4f4b9d7  1.544953e+09     9   16     12   \n",
              "1  4bd23055-6827-41c6-b23b-3c491f24e74d  1.543284e+09     2   27     11   \n",
              "2  981a3613-77af-4620-a42a-0c0866077d1e  1.543367e+09     1   28     11   \n",
              "3  c2d88af2-d278-4bfd-a8d0-29ca77cc5512  1.543554e+09     4   30     11   \n",
              "4  e0126e1f-8ca9-4f2e-82b3-50505a09db9a  1.543463e+09     3   29     11   \n",
              "\n",
              "              datetime          timezone            source    destination  \\\n",
              "0  2018-12-16 09:30:07  America/New_York  Haymarket Square  North Station   \n",
              "1  2018-11-27 02:00:23  America/New_York  Haymarket Square  North Station   \n",
              "2  2018-11-28 01:00:22  America/New_York  Haymarket Square  North Station   \n",
              "3  2018-11-30 04:53:02  America/New_York  Haymarket Square  North Station   \n",
              "4  2018-11-29 03:49:20  America/New_York  Haymarket Square  North Station   \n",
              "\n",
              "  cab_type  ... precipIntensityMax uvIndexTime  temperatureMin  \\\n",
              "0     Lyft  ...             0.1276  1544979600           39.89   \n",
              "1     Lyft  ...             0.1300  1543251600           40.49   \n",
              "2     Lyft  ...             0.1064  1543338000           35.36   \n",
              "3     Lyft  ...             0.0000  1543507200           34.67   \n",
              "4     Lyft  ...             0.0001  1543420800           33.10   \n",
              "\n",
              "   temperatureMinTime  temperatureMax  temperatureMaxTime  \\\n",
              "0          1545012000           43.68          1544968800   \n",
              "1          1543233600           47.30          1543251600   \n",
              "2          1543377600           47.55          1543320000   \n",
              "3          1543550400           45.03          1543510800   \n",
              "4          1543402800           42.18          1543420800   \n",
              "\n",
              "   apparentTemperatureMin  apparentTemperatureMinTime  apparentTemperatureMax  \\\n",
              "0                   33.73                  1545012000                   38.07   \n",
              "1                   36.20                  1543291200                   43.92   \n",
              "2                   31.04                  1543377600                   44.12   \n",
              "3                   30.30                  1543550400                   38.53   \n",
              "4                   29.11                  1543392000                   35.75   \n",
              "\n",
              "  apparentTemperatureMaxTime  \n",
              "0                 1544958000  \n",
              "1                 1543251600  \n",
              "2                 1543320000  \n",
              "3                 1543510800  \n",
              "4                 1543420800  \n",
              "\n",
              "[5 rows x 57 columns]"
            ]
          },
          "execution_count": 4,
          "metadata": {},
          "output_type": "execute_result"
        }
      ],
      "source": [
        "ride = pd.read_csv('rideshare_kaggle.csv')\n",
        "ride.head()\n"
      ]
    },
    {
      "cell_type": "code",
      "execution_count": null,
      "metadata": {
        "id": "FSUslhPZ57eb",
        "outputId": "4876edac-2170-4a53-be1b-638514db4c9c"
      },
      "outputs": [
        {
          "name": "stdout",
          "output_type": "stream",
          "text": [
            "<class 'pandas.core.frame.DataFrame'>\n",
            "RangeIndex: 693071 entries, 0 to 693070\n",
            "Data columns (total 57 columns):\n",
            " #   Column                       Non-Null Count   Dtype  \n",
            "---  ------                       --------------   -----  \n",
            " 0   id                           693071 non-null  object \n",
            " 1   timestamp                    693071 non-null  float64\n",
            " 2   hour                         693071 non-null  int64  \n",
            " 3   day                          693071 non-null  int64  \n",
            " 4   month                        693071 non-null  int64  \n",
            " 5   datetime                     693071 non-null  object \n",
            " 6   timezone                     693071 non-null  object \n",
            " 7   source                       693071 non-null  object \n",
            " 8   destination                  693071 non-null  object \n",
            " 9   cab_type                     693071 non-null  object \n",
            " 10  product_id                   693071 non-null  object \n",
            " 11  name                         693071 non-null  object \n",
            " 12  price                        637976 non-null  float64\n",
            " 13  distance                     693071 non-null  float64\n",
            " 14  surge_multiplier             693071 non-null  float64\n",
            " 15  latitude                     693071 non-null  float64\n",
            " 16  longitude                    693071 non-null  float64\n",
            " 17  temperature                  693071 non-null  float64\n",
            " 18  apparentTemperature          693071 non-null  float64\n",
            " 19  short_summary                693071 non-null  object \n",
            " 20  long_summary                 693071 non-null  object \n",
            " 21  precipIntensity              693071 non-null  float64\n",
            " 22  precipProbability            693071 non-null  float64\n",
            " 23  humidity                     693071 non-null  float64\n",
            " 24  windSpeed                    693071 non-null  float64\n",
            " 25  windGust                     693071 non-null  float64\n",
            " 26  windGustTime                 693071 non-null  int64  \n",
            " 27  visibility                   693071 non-null  float64\n",
            " 28  temperatureHigh              693071 non-null  float64\n",
            " 29  temperatureHighTime          693071 non-null  int64  \n",
            " 30  temperatureLow               693071 non-null  float64\n",
            " 31  temperatureLowTime           693071 non-null  int64  \n",
            " 32  apparentTemperatureHigh      693071 non-null  float64\n",
            " 33  apparentTemperatureHighTime  693071 non-null  int64  \n",
            " 34  apparentTemperatureLow       693071 non-null  float64\n",
            " 35  apparentTemperatureLowTime   693071 non-null  int64  \n",
            " 36  icon                         693071 non-null  object \n",
            " 37  dewPoint                     693071 non-null  float64\n",
            " 38  pressure                     693071 non-null  float64\n",
            " 39  windBearing                  693071 non-null  int64  \n",
            " 40  cloudCover                   693071 non-null  float64\n",
            " 41  uvIndex                      693071 non-null  int64  \n",
            " 42  visibility.1                 693071 non-null  float64\n",
            " 43  ozone                        693071 non-null  float64\n",
            " 44  sunriseTime                  693071 non-null  int64  \n",
            " 45  sunsetTime                   693071 non-null  int64  \n",
            " 46  moonPhase                    693071 non-null  float64\n",
            " 47  precipIntensityMax           693071 non-null  float64\n",
            " 48  uvIndexTime                  693071 non-null  int64  \n",
            " 49  temperatureMin               693071 non-null  float64\n",
            " 50  temperatureMinTime           693071 non-null  int64  \n",
            " 51  temperatureMax               693071 non-null  float64\n",
            " 52  temperatureMaxTime           693071 non-null  int64  \n",
            " 53  apparentTemperatureMin       693071 non-null  float64\n",
            " 54  apparentTemperatureMinTime   693071 non-null  int64  \n",
            " 55  apparentTemperatureMax       693071 non-null  float64\n",
            " 56  apparentTemperatureMaxTime   693071 non-null  int64  \n",
            "dtypes: float64(29), int64(17), object(11)\n",
            "memory usage: 301.4+ MB\n"
          ]
        }
      ],
      "source": [
        "ride.info()"
      ]
    },
    {
      "cell_type": "markdown",
      "metadata": {
        "id": "yq1wA8eQ57ec"
      },
      "source": [
        "we can see there are no null values max  except price."
      ]
    },
    {
      "cell_type": "code",
      "execution_count": null,
      "metadata": {
        "id": "mhniYRU957ed",
        "outputId": "6491a676-d62e-4313-c410-57ee70f98020"
      },
      "outputs": [
        {
          "data": {
            "text/plain": [
              "id                                 0\n",
              "timestamp                          0\n",
              "hour                               0\n",
              "day                                0\n",
              "month                              0\n",
              "datetime                           0\n",
              "timezone                           0\n",
              "source                             0\n",
              "destination                        0\n",
              "cab_type                           0\n",
              "product_id                         0\n",
              "name                               0\n",
              "price                          55095\n",
              "distance                           0\n",
              "surge_multiplier                   0\n",
              "latitude                           0\n",
              "longitude                          0\n",
              "temperature                        0\n",
              "apparentTemperature                0\n",
              "short_summary                      0\n",
              "long_summary                       0\n",
              "precipIntensity                    0\n",
              "precipProbability                  0\n",
              "humidity                           0\n",
              "windSpeed                          0\n",
              "windGust                           0\n",
              "windGustTime                       0\n",
              "visibility                         0\n",
              "temperatureHigh                    0\n",
              "temperatureHighTime                0\n",
              "temperatureLow                     0\n",
              "temperatureLowTime                 0\n",
              "apparentTemperatureHigh            0\n",
              "apparentTemperatureHighTime        0\n",
              "apparentTemperatureLow             0\n",
              "apparentTemperatureLowTime         0\n",
              "icon                               0\n",
              "dewPoint                           0\n",
              "pressure                           0\n",
              "windBearing                        0\n",
              "cloudCover                         0\n",
              "uvIndex                            0\n",
              "visibility.1                       0\n",
              "ozone                              0\n",
              "sunriseTime                        0\n",
              "sunsetTime                         0\n",
              "moonPhase                          0\n",
              "precipIntensityMax                 0\n",
              "uvIndexTime                        0\n",
              "temperatureMin                     0\n",
              "temperatureMinTime                 0\n",
              "temperatureMax                     0\n",
              "temperatureMaxTime                 0\n",
              "apparentTemperatureMin             0\n",
              "apparentTemperatureMinTime         0\n",
              "apparentTemperatureMax             0\n",
              "apparentTemperatureMaxTime         0\n",
              "dtype: int64"
            ]
          },
          "execution_count": 6,
          "metadata": {},
          "output_type": "execute_result"
        }
      ],
      "source": [
        "ride.isna().sum()"
      ]
    },
    {
      "cell_type": "markdown",
      "metadata": {
        "id": "_rihmuKi57ee"
      },
      "source": [
        "We can see there are 55095 null values in Price column."
      ]
    },
    {
      "cell_type": "markdown",
      "metadata": {
        "id": "tuTamXqZ57ee"
      },
      "source": [
        "5% Threshold for null values"
      ]
    },
    {
      "cell_type": "code",
      "execution_count": null,
      "metadata": {
        "id": "_QY601Hy57ef",
        "outputId": "1d0ca6d3-50a6-49e4-e0ba-d3a081479e17"
      },
      "outputs": [
        {
          "name": "stdout",
          "output_type": "stream",
          "text": [
            "34653.55\n"
          ]
        }
      ],
      "source": [
        "threshold = len(ride)*0.05\n",
        "print(threshold)"
      ]
    },
    {
      "cell_type": "markdown",
      "metadata": {
        "id": "LViSLBZz57ef"
      },
      "source": [
        "But we have only 55095 null values in the data, we can drop but i want to impute them with median."
      ]
    },
    {
      "cell_type": "code",
      "execution_count": null,
      "metadata": {
        "id": "UZW2SE6t57eg",
        "outputId": "9b4ba374-02f7-4239-915c-62224e8e890d"
      },
      "outputs": [
        {
          "name": "stdout",
          "output_type": "stream",
          "text": [
            "{'Lyft': 16.5, 'Uber': 12.5}\n"
          ]
        }
      ],
      "source": [
        "#changing null values of price to median price based on cab type\n",
        "ride_dict =  ride.groupby('cab_type')['price'].median().to_dict()\n",
        "print(ride_dict)\n",
        "ride['price'] = ride['price'].fillna(ride['cab_type'].map(ride_dict))\n"
      ]
    },
    {
      "cell_type": "markdown",
      "metadata": {
        "id": "8gLULiah57eh"
      },
      "source": [
        "Lets check the null values of the price"
      ]
    },
    {
      "cell_type": "code",
      "execution_count": null,
      "metadata": {
        "id": "hiLmXMro57ei",
        "outputId": "5b14ad06-57da-4d0f-a41a-1796824de387"
      },
      "outputs": [
        {
          "data": {
            "text/plain": [
              "id                             0\n",
              "timestamp                      0\n",
              "hour                           0\n",
              "day                            0\n",
              "month                          0\n",
              "datetime                       0\n",
              "timezone                       0\n",
              "source                         0\n",
              "destination                    0\n",
              "cab_type                       0\n",
              "product_id                     0\n",
              "name                           0\n",
              "price                          0\n",
              "distance                       0\n",
              "surge_multiplier               0\n",
              "latitude                       0\n",
              "longitude                      0\n",
              "temperature                    0\n",
              "apparentTemperature            0\n",
              "short_summary                  0\n",
              "long_summary                   0\n",
              "precipIntensity                0\n",
              "precipProbability              0\n",
              "humidity                       0\n",
              "windSpeed                      0\n",
              "windGust                       0\n",
              "windGustTime                   0\n",
              "visibility                     0\n",
              "temperatureHigh                0\n",
              "temperatureHighTime            0\n",
              "temperatureLow                 0\n",
              "temperatureLowTime             0\n",
              "apparentTemperatureHigh        0\n",
              "apparentTemperatureHighTime    0\n",
              "apparentTemperatureLow         0\n",
              "apparentTemperatureLowTime     0\n",
              "icon                           0\n",
              "dewPoint                       0\n",
              "pressure                       0\n",
              "windBearing                    0\n",
              "cloudCover                     0\n",
              "uvIndex                        0\n",
              "visibility.1                   0\n",
              "ozone                          0\n",
              "sunriseTime                    0\n",
              "sunsetTime                     0\n",
              "moonPhase                      0\n",
              "precipIntensityMax             0\n",
              "uvIndexTime                    0\n",
              "temperatureMin                 0\n",
              "temperatureMinTime             0\n",
              "temperatureMax                 0\n",
              "temperatureMaxTime             0\n",
              "apparentTemperatureMin         0\n",
              "apparentTemperatureMinTime     0\n",
              "apparentTemperatureMax         0\n",
              "apparentTemperatureMaxTime     0\n",
              "dtype: int64"
            ]
          },
          "execution_count": 13,
          "metadata": {},
          "output_type": "execute_result"
        }
      ],
      "source": [
        "ride.isna().sum()"
      ]
    },
    {
      "cell_type": "markdown",
      "metadata": {
        "id": "76zYYEwk57ej"
      },
      "source": [
        "Check the propotion of the cab_type"
      ]
    },
    {
      "cell_type": "code",
      "execution_count": null,
      "metadata": {
        "id": "uQBdrwlv57ej",
        "outputId": "c500953e-9a1f-4c87-a2c6-7234ec0e69ee"
      },
      "outputs": [
        {
          "data": {
            "text/plain": [
              "cab_type\n",
              "Uber    0.556455\n",
              "Lyft    0.443545\n",
              "Name: proportion, dtype: float64"
            ]
          },
          "execution_count": 15,
          "metadata": {},
          "output_type": "execute_result"
        }
      ],
      "source": [
        "ride['cab_type'].value_counts(normalize=True)"
      ]
    },
    {
      "cell_type": "markdown",
      "metadata": {
        "id": "O9De7RgW57ek"
      },
      "source": [
        "lets check the dtypes"
      ]
    },
    {
      "cell_type": "code",
      "execution_count": null,
      "metadata": {
        "id": "ERpi2LT057el",
        "outputId": "5614bb8f-958f-4073-98c7-160d6816a729"
      },
      "outputs": [
        {
          "data": {
            "text/plain": [
              "id                              object\n",
              "timestamp                      float64\n",
              "hour                             int64\n",
              "day                              int64\n",
              "month                            int64\n",
              "datetime                        object\n",
              "timezone                        object\n",
              "source                          object\n",
              "destination                     object\n",
              "cab_type                        object\n",
              "product_id                      object\n",
              "name                            object\n",
              "price                          float64\n",
              "distance                       float64\n",
              "surge_multiplier               float64\n",
              "latitude                       float64\n",
              "longitude                      float64\n",
              "temperature                    float64\n",
              "apparentTemperature            float64\n",
              "short_summary                   object\n",
              "long_summary                    object\n",
              "precipIntensity                float64\n",
              "precipProbability              float64\n",
              "humidity                       float64\n",
              "windSpeed                      float64\n",
              "windGust                       float64\n",
              "windGustTime                     int64\n",
              "visibility                     float64\n",
              "temperatureHigh                float64\n",
              "temperatureHighTime              int64\n",
              "temperatureLow                 float64\n",
              "temperatureLowTime               int64\n",
              "apparentTemperatureHigh        float64\n",
              "apparentTemperatureHighTime      int64\n",
              "apparentTemperatureLow         float64\n",
              "apparentTemperatureLowTime       int64\n",
              "icon                            object\n",
              "dewPoint                       float64\n",
              "pressure                       float64\n",
              "windBearing                      int64\n",
              "cloudCover                     float64\n",
              "uvIndex                          int64\n",
              "visibility.1                   float64\n",
              "ozone                          float64\n",
              "sunriseTime                      int64\n",
              "sunsetTime                       int64\n",
              "moonPhase                      float64\n",
              "precipIntensityMax             float64\n",
              "uvIndexTime                      int64\n",
              "temperatureMin                 float64\n",
              "temperatureMinTime               int64\n",
              "temperatureMax                 float64\n",
              "temperatureMaxTime               int64\n",
              "apparentTemperatureMin         float64\n",
              "apparentTemperatureMinTime       int64\n",
              "apparentTemperatureMax         float64\n",
              "apparentTemperatureMaxTime       int64\n",
              "dtype: object"
            ]
          },
          "execution_count": 16,
          "metadata": {},
          "output_type": "execute_result"
        }
      ],
      "source": [
        "ride.dtypes"
      ]
    },
    {
      "cell_type": "markdown",
      "metadata": {
        "id": "ZTHyPpPv57el"
      },
      "source": [
        "Every thing seems ok but ,date time should have date time dtype not object."
      ]
    },
    {
      "cell_type": "code",
      "execution_count": null,
      "metadata": {
        "id": "7Ja9v4UR57em",
        "outputId": "d66e25a1-cc4b-4cf1-a165-b30007125175"
      },
      "outputs": [
        {
          "data": {
            "text/plain": [
              "CategoricalDtype(categories=['Lyft', 'Uber'], ordered=False, categories_dtype=object)"
            ]
          },
          "execution_count": 35,
          "metadata": {},
          "output_type": "execute_result"
        }
      ],
      "source": [
        "#changing date time dtype\n",
        "ride['datetime'] = pd.to_datetime(ride['datetime'])\n",
        "ride['datetime'].dtype\n",
        "#changing cabtype to category\n",
        "ride['cab_type'] = ride['cab_type'].astype('category')\n",
        "ride['cab_type'].dtype"
      ]
    },
    {
      "cell_type": "markdown",
      "metadata": {
        "id": "3A-P9nt757em"
      },
      "source": [
        "Lets check for the outliers for price"
      ]
    },
    {
      "cell_type": "code",
      "execution_count": null,
      "metadata": {
        "id": "DEBn3IHv57en",
        "outputId": "3eeedf5c-8a09-4d32-e6da-c3ba38a7bdc5"
      },
      "outputs": [
        {
          "data": {
            "image/png": "[encoded data removed]",
            "text/plain": [
              "<Figure size 640x480 with 1 Axes>"
            ]
          },
          "metadata": {},
          "output_type": "display_data"
        }
      ],
      "source": [
        "sns.boxplot(data=ride,y='price')\n",
        "plt.show()\n",
        "\n",
        "\n"
      ]
    },
    {
      "cell_type": "markdown",
      "metadata": {
        "id": "WTR7O_Iq57eo"
      },
      "source": [
        "We can see there are bunch of datapoints above upper quartile."
      ]
    },
    {
      "cell_type": "code",
      "execution_count": null,
      "metadata": {
        "id": "o22cpmJD57eo",
        "outputId": "c014adbe-278c-47a5-9916-3ba25b0c43e9"
      },
      "outputs": [
        {
          "data": {
            "text/plain": [
              "source                   destination              cab_type\n",
              "Financial District       Boston University        Lyft        741\n",
              "Boston University        Financial District       Lyft        683\n",
              "Fenway                   Financial District       Lyft        649\n",
              "Financial District       Fenway                   Lyft        593\n",
              "Theatre District         Boston University        Lyft        503\n",
              "Financial District       Boston University        Uber        475\n",
              "Northeastern University  Financial District       Lyft        379\n",
              "Financial District       Northeastern University  Uber        292\n",
              "Boston University        Financial District       Uber        277\n",
              "Financial District       Northeastern University  Lyft        191\n",
              "Name: count, dtype: int64"
            ]
          },
          "execution_count": 36,
          "metadata": {},
          "output_type": "execute_result"
        }
      ],
      "source": [
        "#outliers detection\n",
        "sf = ride['price'].quantile(0.75)\n",
        "tf = ride['price'].quantile(0.25)\n",
        "iqr = sf-tf\n",
        "upper = sf+(1.5*iqr)\n",
        "lower = sf -(1.5*iqr)\n",
        "outlier_price = ride[(ride['price']<lower)|(ride['price']>upper)][['source','destination','cab_type']]\n",
        "count = outlier_price.groupby(by=['source','destination']).value_counts()\n",
        "index = count.nlargest(10)\n",
        "index\n"
      ]
    },
    {
      "cell_type": "markdown",
      "metadata": {
        "id": "KXwpHC_Z57ep"
      },
      "source": [
        "This are the source and destination which people book more frequently,so, there is no doubt why this prices are high."
      ]
    },
    {
      "cell_type": "markdown",
      "metadata": {
        "id": "Jg937uQr57eq"
      },
      "source": [
        "Lets check which cab_type is more expensive"
      ]
    },
    {
      "cell_type": "code",
      "execution_count": null,
      "metadata": {
        "id": "ir3YNHTj57eq",
        "outputId": "724fc452-2b4b-49f3-e83c-7958c7564bf9"
      },
      "outputs": [
        {
          "name": "stderr",
          "output_type": "stream",
          "text": [
            "C:\\Users\\STSC\\AppData\\Local\\Temp\\ipykernel_19552\\3926626178.py:1: FutureWarning: The default of observed=False is deprecated and will be changed to True in a future version of pandas. Pass observed=False to retain current behavior or observed=True to adopt the future default and silence this warning.\n",
            "  ride.groupby('cab_type')['price'].mean()\n"
          ]
        },
        {
          "data": {
            "text/plain": [
              "cab_type\n",
              "Lyft    17.351396\n",
              "Uber    15.324577\n",
              "Name: price, dtype: float64"
            ]
          },
          "execution_count": 37,
          "metadata": {},
          "output_type": "execute_result"
        }
      ],
      "source": [
        "ride.groupby('cab_type')['price'].mean()"
      ]
    },
    {
      "cell_type": "markdown",
      "metadata": {
        "id": "i8ruCjLQ57er"
      },
      "source": [
        "Which cab type has more probability that we can surge multiplier [1 is no problem , above 1 is the extra we should pay like actual_price *1.25,actual_price*2,based on demand]"
      ]
    },
    {
      "cell_type": "code",
      "execution_count": null,
      "metadata": {
        "id": "yMMcVYT757es",
        "outputId": "eac43860-6de7-47cb-bb34-66f2a3752cfe"
      },
      "outputs": [
        {
          "name": "stderr",
          "output_type": "stream",
          "text": [
            "C:\\Users\\STSC\\AppData\\Local\\Temp\\ipykernel_19552\\2495672954.py:1: FutureWarning: The default of observed=False is deprecated and will be changed to True in a future version of pandas. Pass observed=False to retain current behavior or observed=True to adopt the future default and silence this warning.\n",
            "  ride.groupby('cab_type')['surge_multiplier'].value_counts()\n"
          ]
        },
        {
          "data": {
            "text/plain": [
              "cab_type  surge_multiplier\n",
              "Lyft      1.00                286433\n",
              "          1.25                 11085\n",
              "          1.50                  5065\n",
              "          1.75                  2420\n",
              "          2.00                  2239\n",
              "          2.50                   154\n",
              "          3.00                    12\n",
              "Uber      1.00                385663\n",
              "          1.25                     0\n",
              "          1.50                     0\n",
              "          1.75                     0\n",
              "          2.00                     0\n",
              "          2.50                     0\n",
              "          3.00                     0\n",
              "Name: count, dtype: int64"
            ]
          },
          "execution_count": 47,
          "metadata": {},
          "output_type": "execute_result"
        }
      ],
      "source": [
        "ride.groupby('cab_type')['surge_multiplier'].value_counts()"
      ]
    },
    {
      "cell_type": "markdown",
      "metadata": {
        "id": "fqWvx79J57es"
      },
      "source": [
        "It's clear that we will get surge multiplier when we use LYFT, And also we can observe that people are more interested booking lyft then uber."
      ]
    },
    {
      "cell_type": "markdown",
      "metadata": {
        "id": "H_WLP5NW57et"
      },
      "source": [
        "Data visualization"
      ]
    }
  ],
  "metadata": {
    "kernelspec": {
      "display_name": "Python 3",
      "language": "python",
      "name": "python3"
    },
    "language_info": {
      "codemirror_mode": {
        "name": "ipython",
        "version": 3
      },
      "file_extension": ".py",
      "mimetype": "text/x-python",
      "name": "python",
      "nbconvert_exporter": "python",
      "pygments_lexer": "ipython3",
      "version": "3.11.9"
    },
    "colab": {
      "provenance": [],
      "include_colab_link": true
    }
  },
  "nbformat": 4,
  "nbformat_minor": 0
}